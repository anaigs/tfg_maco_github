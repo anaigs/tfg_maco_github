{
 "cells": [
  {
   "cell_type": "code",
   "execution_count": 1,
   "id": "0e0d7e4f",
   "metadata": {},
   "outputs": [],
   "source": [
    "import pandas as pd\n",
    "import numpy as np\n",
    "from scipy.optimize import minimize\n",
    "from scipy.stats import poisson\n",
    "from sklearn.metrics import classification_report, confusion_matrix, accuracy_score, f1_score\n",
    "import matplotlib.pyplot as plt\n",
    "import seaborn as sns\n",
    "\n",
    "df = pd.read_csv(\"../datasets/combined_odds_cleaned.csv\")\n",
    "df['Date'] = pd.to_datetime(df['Date'])\n",
    "df['Season'] = df['Season'].astype(str)\n",
    "\n",
    "temporadas_entrenamiento = ['2018-19','2019-20', '2020-21', '2021-22', '2022-23']\n",
    "df_train = df[df['Season'].isin(temporadas_entrenamiento)].copy()\n",
    "df_test = df[df['Season'] == '2023-24'].copy()\n",
    "\n",
    "equipos = sorted(pd.unique(df_train[['HomeTeam', 'AwayTeam']].values.ravel()))\n",
    "n = len(equipos)\n",
    "idx = {team: i for i, team in enumerate(equipos)}\n"
   ]
  },
  {
   "cell_type": "code",
   "execution_count": 2,
   "id": "0a95a3b6",
   "metadata": {},
   "outputs": [],
   "source": [
    "def poisson_bivariante(x, y, lambda1, lambda2, lambda3):\n",
    "    prob = 0.0\n",
    "    for z in range(0, min(x, y)+1):\n",
    "        prob += (poisson.pmf(z, lambda3) *\n",
    "                 poisson.pmf(x - z, lambda1) *\n",
    "                 poisson.pmf(y - z, lambda2))\n",
    "    return max(prob, 1e-10)  # evitar log(0)"
   ]
  },
  {
   "cell_type": "code",
   "execution_count": 3,
   "id": "90f1c8e5",
   "metadata": {},
   "outputs": [],
   "source": [
    "def logverosimilitud_bivar(params):\n",
    "    ataque = params[:n]\n",
    "    defensa = params[n:2*n]\n",
    "    gamma = params[2*n]\n",
    "    lambda_shared = params[2*n + 1]\n",
    "\n",
    "    if lambda_shared < 0:\n",
    "        return np.inf  # restringir a valores positivos\n",
    "\n",
    "    log_lik = 0\n",
    "    for _, row in df_train.iterrows():\n",
    "        i = idx[row['HomeTeam']]\n",
    "        j = idx[row['AwayTeam']]\n",
    "        g_home = row['FTHG']\n",
    "        g_away = row['FTAG']\n",
    "\n",
    "        lambda_home = np.exp(ataque[i] - defensa[j] + gamma)\n",
    "        lambda_away = np.exp(ataque[j] - defensa[i])\n",
    "        lambda1 = max(lambda_home - lambda_shared, 1e-5)\n",
    "        lambda2 = max(lambda_away - lambda_shared, 1e-5)\n",
    "\n",
    "        p = poisson_bivariante(g_home, g_away, lambda1, lambda2, lambda_shared)\n",
    "        log_lik += np.log(p)\n",
    "\n",
    "    return -log_lik"
   ]
  },
  {
   "cell_type": "code",
   "execution_count": 4,
   "id": "1bb663e3",
   "metadata": {},
   "outputs": [],
   "source": [
    "x0 = np.concatenate([\n",
    "    np.random.normal(0, 0.1, n),   # ataque\n",
    "    np.random.normal(0, 0.1, n),   # defensa\n",
    "    [0.1],                         # gamma\n",
    "    [0.1]                          # lambda_shared inicial\n",
    "])\n",
    "\n",
    "bounds = [(-5, 5)] * (2*n) + [(-1, 1), (0.0001, 1.0)]\n",
    "\n",
    "res = minimize(logverosimilitud_bivar, x0, method='L-BFGS-B', bounds=bounds)\n",
    "\n",
    "ataque = dict(zip(equipos, res.x[:n]))\n",
    "defensa = dict(zip(equipos, res.x[n:2*n]))\n",
    "gamma = res.x[2*n]\n",
    "lambda_shared = res.x[2*n + 1]"
   ]
  },
  {
   "cell_type": "code",
   "execution_count": 5,
   "id": "c4a364ad",
   "metadata": {},
   "outputs": [
    {
     "name": "stdout",
     "output_type": "stream",
     "text": [
      "0.09615075117081831\n"
     ]
    }
   ],
   "source": [
    "print(lambda_shared)"
   ]
  },
  {
   "cell_type": "code",
   "execution_count": 6,
   "id": "d93521b9",
   "metadata": {},
   "outputs": [],
   "source": [
    "max_goals = 6\n",
    "preds = []\n",
    "\n",
    "for _, row in df_test.iterrows():\n",
    "    home = row['HomeTeam']\n",
    "    away = row['AwayTeam']\n",
    "    if home not in ataque or away not in ataque:\n",
    "        continue\n",
    "\n",
    "    lambda_home = np.exp(ataque[home] - defensa[away] + gamma)\n",
    "    lambda_away = np.exp(ataque[away] - defensa[home])\n",
    "    lambda1 = max(lambda_home - lambda_shared, 1e-5)\n",
    "    lambda2 = max(lambda_away - lambda_shared, 1e-5)\n",
    "\n",
    "    matriz = np.zeros((max_goals, max_goals))\n",
    "    for i in range(max_goals):\n",
    "        for j in range(max_goals):\n",
    "            matriz[i, j] = poisson_bivariante(i, j, lambda1, lambda2, lambda_shared)\n",
    "\n",
    "    p_home = np.tril(matriz, -1).sum()\n",
    "    p_draw = np.trace(matriz)\n",
    "    p_away = np.triu(matriz, 1).sum()\n",
    "\n",
    "    pred = np.argmax([p_home, p_draw, p_away])\n",
    "    pred_label = ['H', 'D', 'A'][pred]\n",
    "\n",
    "    preds.append({\n",
    "        'HomeTeam': home,\n",
    "        'AwayTeam': away,\n",
    "        'FTR_real': row['FTR'],\n",
    "        'Pred': pred_label\n",
    "    })\n",
    "\n",
    "df_preds = pd.DataFrame(preds)"
   ]
  },
  {
   "cell_type": "code",
   "execution_count": 7,
   "id": "1c3fe8cf",
   "metadata": {},
   "outputs": [
    {
     "name": "stdout",
     "output_type": "stream",
     "text": [
      "Accuracy: 0.52\n",
      "F1 Score (macro): 0.391\n",
      "\n",
      "Classification Report:\n",
      "               precision    recall  f1-score   support\n",
      "\n",
      "           A       0.47      0.51      0.48        95\n",
      "           D       0.33      0.01      0.02        97\n",
      "           H       0.55      0.86      0.67       150\n",
      "\n",
      "    accuracy                           0.52       342\n",
      "   macro avg       0.45      0.46      0.39       342\n",
      "weighted avg       0.46      0.52      0.43       342\n",
      "\n"
     ]
    },
    {
     "data": {
      "image/png": "[encoded data removed]",
      "text/plain": [
       "<Figure size 640x480 with 2 Axes>"
      ]
     },
     "metadata": {},
     "output_type": "display_data"
    }
   ],
   "source": [
    "y_true = df_preds['FTR_real']\n",
    "y_pred = df_preds['Pred']\n",
    "\n",
    "print(\"Accuracy:\", round(accuracy_score(y_true, y_pred), 3))\n",
    "print(\"F1 Score (macro):\", round(f1_score(y_true, y_pred, average='macro'), 3))\n",
    "print(\"\\nClassification Report:\\n\", classification_report(y_true, y_pred))\n",
    "\n",
    "# Matriz de confusión\n",
    "cm = confusion_matrix(y_true, y_pred, labels=['H', 'D', 'A'])\n",
    "sns.heatmap(cm, annot=True, fmt='d', cmap=\"Blues\", xticklabels=['H', 'D', 'A'], yticklabels=['H', 'D', 'A'])\n",
    "plt.xlabel(\"Predicho\")\n",
    "plt.ylabel(\"Real\")\n",
    "plt.title(\"Matriz de Confusión - Poisson Bivariante (estimada)\")\n",
    "plt.tight_layout()\n",
    "plt.show()"
   ]
  },
  {
   "cell_type": "code",
   "execution_count": 8,
   "id": "a4e4256b",
   "metadata": {},
   "outputs": [
    {
     "name": "stdout",
     "output_type": "stream",
     "text": [
      "Apuestas acertadas: 178 de 342\n",
      "Total gastado: 342.00 €\n",
      "Total ganado: 560.97 €\n",
      "Beneficio neto: 218.97 €\n",
      "Rentabilidad: 64.03 %\n"
     ]
    }
   ],
   "source": [
    "# Simulación de apuestas para modelo Poisson simple\n",
    "\n",
    "import pandas as pd\n",
    "\n",
    "# Copiar predicciones\n",
    "df_apuestas = df_preds.copy()\n",
    "\n",
    "# Unir cuotas desde df_test usando HomeTeam y AwayTeam\n",
    "df_apuestas = df_apuestas.merge(\n",
    "    df_test[['HomeTeam', 'AwayTeam', 'AvgH', 'AvgD', 'AvgA']],\n",
    "    on=['HomeTeam', 'AwayTeam'],\n",
    "    how='left'\n",
    ")\n",
    "\n",
    "# Definir la cuota usada según la predicción del modelo\n",
    "df_apuestas['cuota_usada'] = df_apuestas.apply(\n",
    "    lambda row: row['AvgH'] if row['Pred'] == 'H' else (\n",
    "        row['AvgD'] if row['Pred'] == 'D' else row['AvgA']\n",
    "    ),\n",
    "    axis=1\n",
    ")\n",
    "\n",
    "# Calcular si la apuesta fue acertada\n",
    "df_apuestas['acierto'] = (df_apuestas['Pred'] == df_apuestas['FTR_real']).astype(int)\n",
    "\n",
    "# Supongamos 1€ apostado por partido\n",
    "df_apuestas['apostado'] = 1.0\n",
    "df_apuestas['ganancia'] = df_apuestas['acierto'] * df_apuestas['cuota_usada']\n",
    "\n",
    "# Resultados agregados\n",
    "acertadas = df_apuestas['acierto'].sum()\n",
    "total_partidos = len(df_apuestas)\n",
    "total_apostado = df_apuestas['apostado'].sum()\n",
    "total_ganado = df_apuestas['ganancia'].sum()\n",
    "beneficio_neto = total_ganado - total_apostado\n",
    "rentabilidad = (beneficio_neto / total_apostado) * 100\n",
    "\n",
    "# Mostrar resultados\n",
    "print(f\"Apuestas acertadas: {acertadas} de {total_partidos}\")\n",
    "print(f\"Total gastado: {total_apostado:.2f} €\")\n",
    "print(f\"Total ganado: {total_ganado:.2f} €\")\n",
    "print(f\"Beneficio neto: {beneficio_neto:.2f} €\")\n",
    "print(f\"Rentabilidad: {rentabilidad:.2f} %\")\n"
   ]
  }
 ],
 "metadata": {
  "kernelspec": {
   "display_name": "Python 3",
   "language": "python",
   "name": "python3"
  },
  "language_info": {
   "codemirror_mode": {
    "name": "ipython",
    "version": 3
   },
   "file_extension": ".py",
   "mimetype": "text/x-python",
   "name": "python",
   "nbconvert_exporter": "python",
   "pygments_lexer": "ipython3",
   "version": "3.10.7"
  }
 },
 "nbformat": 4,
 "nbformat_minor": 5
}
