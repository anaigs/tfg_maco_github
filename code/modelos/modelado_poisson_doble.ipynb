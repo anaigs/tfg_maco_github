{
 "cells": [
  {
   "cell_type": "markdown",
   "id": "1b977ac7",
   "metadata": {},
   "source": [
    "## Modelo de Poisson doble para predicción de resultados en fútbol\n",
    "\n",
    "En este notebook se implementa el modelo de Poisson doble, que permite estimar el número de goles esperados por cada equipo en un partido en función de:\n",
    "\n",
    "- La fuerza ofensiva y defensiva de cada equipo.\n",
    "- La ventaja de jugar como local.\n",
    "\n",
    "El objetivo principal es calcular la probabilidad de cada resultado posible (victoria local, empate o victoria visitante) y evaluar la capacidad del modelo para predecir el desenlace de partidos reales.\n",
    "\n",
    "### Fases del análisis\n",
    "\n",
    "1. Preparación del conjunto de datos.\n",
    "2. Estimación de parámetros: ataque, defensa y localía.\n",
    "3. Cálculo de goles esperados por partido.\n",
    "4. Cálculo de probabilidades de resultado.\n",
    "5. Validación sobre la temporada 2023-24.\n"
   ]
  },
  {
   "cell_type": "code",
   "execution_count": 4,
   "id": "da97cc92",
   "metadata": {},
   "outputs": [
    {
     "name": "stdout",
     "output_type": "stream",
     "text": [
      "Partidos de entrenamiento: 1520\n",
      "Partidos de validación: 380\n"
     ]
    }
   ],
   "source": [
    "import pandas as pd\n",
    "import numpy as np\n",
    "\n",
    "# Cargar el dataset\n",
    "df = pd.read_csv(\"../datasets/combined_odds_cleaned.csv\")\n",
    "\n",
    "# Asegurar tipos de datos\n",
    "df['Date'] = pd.to_datetime(df['Date'])\n",
    "df['Season'] = df['Season'].astype(str)\n",
    "\n",
    "# Filtrar últimas 4 temporadas para entrenamiento\n",
    "temporadas_entrenamiento = ['2019-20', '2020-21', '2021-22', '2022-23']\n",
    "df_train = df[df['Season'].isin(temporadas_entrenamiento)]\n",
    "df_test = df[df['Season'] == '2023-24']\n",
    "\n",
    "print(f\"Partidos de entrenamiento: {len(df_train)}\")\n",
    "print(f\"Partidos de validación: {len(df_test)}\")\n"
   ]
  },
  {
   "cell_type": "markdown",
   "id": "4a986de7",
   "metadata": {},
   "source": [
    "## Estimación de parámetros del modelo de Poisson doble\n",
    "\n",
    "En esta celda se estiman los parámetros del modelo de Poisson doble de forma robusta, evitando problemas numéricos.\n",
    "\n",
    "Se estima para cada equipo:\n",
    "\n",
    "- Una **fuerza ofensiva** (`ataque`)\n",
    "- Una **fuerza defensiva** (`defensa`)\n",
    "- Un único parámetro de **ventaja de jugar en casa** (`gamma`)\n",
    "\n",
    "Para garantizar estabilidad:\n",
    "\n",
    "- Se utiliza el método `L-BFGS-B`, que permite fijar **límites a los parámetros** y evita valores extremos que puedan causar errores de cálculo (`overflow`).\n",
    "- Se acota el rango de los argumentos de la función exponencial mediante `np.clip(...)` para evitar que `exp(...)` desborde.\n",
    "- Los parámetros se inicializan con ruido pequeño para facilitar la convergencia.\n",
    "\n",
    "El objetivo de la optimización es minimizar la **log-verosimilitud negativa**, es decir, encontrar los parámetros que mejor explican la distribución de goles observada en el conjunto de entrenamiento.\n"
   ]
  },
  {
   "cell_type": "code",
   "execution_count": 5,
   "id": "82fcccb6",
   "metadata": {},
   "outputs": [
    {
     "name": "stdout",
     "output_type": "stream",
     "text": [
      "Ventaja estimada de jugar en casa (gamma): 0.2737\n"
     ]
    }
   ],
   "source": [
    "import numpy as np\n",
    "from scipy.optimize import minimize\n",
    "from scipy.stats import poisson\n",
    "import pandas as pd\n",
    "\n",
    "# Lista de equipos y diccionario de índices\n",
    "equipos = sorted(pd.unique(df_train[['HomeTeam', 'AwayTeam']].values.ravel()))\n",
    "n = len(equipos)\n",
    "idx = {team: i for i, team in enumerate(equipos)}\n",
    "\n",
    "# Función de log-verosimilitud negativa, protegida contra overflow\n",
    "def logverosimilitud(params):\n",
    "    ataque = params[:n]\n",
    "    defensa = params[n:2*n]\n",
    "    gamma = params[-1]\n",
    "\n",
    "    log_lik = 0\n",
    "    for _, row in df_train.iterrows():\n",
    "        i = idx[row['HomeTeam']]\n",
    "        j = idx[row['AwayTeam']]\n",
    "        g_local = row['FTHG']\n",
    "        g_visitante = row['FTAG']\n",
    "\n",
    "        # Protección contra desbordamiento\n",
    "        lambda_ij = np.exp(np.clip(ataque[i] - defensa[j] + gamma, -10, 10))\n",
    "        mu_ji = np.exp(np.clip(ataque[j] - defensa[i], -10, 10))\n",
    "\n",
    "        log_lik += poisson.logpmf(g_local, lambda_ij)\n",
    "        log_lik += poisson.logpmf(g_visitante, mu_ji)\n",
    "\n",
    "    return -log_lik\n",
    "\n",
    "# Inicialización aleatoria controlada\n",
    "rng = np.random.default_rng(seed=42)\n",
    "x0 = np.concatenate([\n",
    "    rng.normal(0, 0.1, n),  # ataque\n",
    "    rng.normal(0, 0.1, n),  # defensa\n",
    "    [0.1]                   # gamma\n",
    "])\n",
    "\n",
    "# Límites razonables para parámetros\n",
    "bounds = [(-5, 5)] * (2*n) + [(-1, 1)]  # ataque, defensa, gamma\n",
    "\n",
    "# Optimización con límites y sin restricciones adicionales\n",
    "res = minimize(\n",
    "    logverosimilitud,\n",
    "    x0,\n",
    "    method='L-BFGS-B',\n",
    "    bounds=bounds,\n",
    "    options={'maxiter': 50, 'disp': True}\n",
    ")\n",
    "\n",
    "# Extraer parámetros\n",
    "ataque = dict(zip(equipos, res.x[:n]))\n",
    "defensa = dict(zip(equipos, res.x[n:2*n]))\n",
    "gamma = res.x[-1]\n",
    "\n",
    "print(f\"Ventaja estimada de jugar en casa (gamma): {gamma:.4f}\")\n"
   ]
  },
  {
   "cell_type": "markdown",
   "id": "32fcbfd7",
   "metadata": {},
   "source": [
    "## Predicción de resultados en la temporada 2023-24\n",
    "\n",
    "Con los parámetros estimados (ataque, defensa y ventaja de localía), se calculan los goles esperados para cada partido de la temporada 2023-24:\n",
    "\n",
    "- λ: goles esperados del equipo local\n",
    "- μ: goles esperados del equipo visitante\n",
    "\n",
    "A partir de estas medias, se obtiene la matriz de probabilidades para los resultados posibles (0–0, 0–1, ..., 5–5), asumiendo independencia entre ambos equipos.\n",
    "\n",
    "Después, se agrupan estas probabilidades para calcular:\n",
    "\n",
    "- Probabilidad de victoria local: \\( P(goles\\_local > goles\\_visitante) \\)\n",
    "- Probabilidad de empate: \\( P(goles\\_local = goles\\_visitante) \\)\n",
    "- Probabilidad de victoria visitante: \\( P(goles\\_local < goles\\_visitante) \\)\n",
    "\n",
    "Finalmente, se compara el resultado más probable con el resultado real (`FTR`) para evaluar la precisión del modelo.\n"
   ]
  },
  {
   "cell_type": "code",
   "execution_count": 11,
   "id": "5822e7e4",
   "metadata": {},
   "outputs": [
    {
     "name": "stdout",
     "output_type": "stream",
     "text": [
      "Precisión del modelo (aciertos exactos en 2023-24): 0.532\n"
     ]
    }
   ],
   "source": [
    "from scipy.stats import poisson\n",
    "\n",
    "# Máximo número de goles considerados (0 a 5)\n",
    "max_goals = 6\n",
    "\n",
    "# Lista para guardar predicciones\n",
    "predicciones = []\n",
    "\n",
    "for _, row in df_test.iterrows():\n",
    "    equipo_local = row['HomeTeam']\n",
    "    equipo_visitante = row['AwayTeam']\n",
    "\n",
    "    if equipo_local not in ataque or equipo_visitante not in ataque:\n",
    "        continue\n",
    "\n",
    "    # Calcular goles esperados con control de estabilidad\n",
    "    lambda_home = np.exp(np.clip(ataque[equipo_local] - defensa[equipo_visitante] + gamma, -10, 10))\n",
    "    mu_away = np.exp(np.clip(ataque[equipo_visitante] - defensa[equipo_local], -10, 10))\n",
    "\n",
    "    # Matriz conjunta de probabilidades\n",
    "    prob_home = poisson.pmf(range(max_goals), lambda_home)\n",
    "    prob_away = poisson.pmf(range(max_goals), mu_away)\n",
    "    matriz = np.outer(prob_home, prob_away)\n",
    "\n",
    "    # Sumar probabilidades por tipo de resultado\n",
    "    p_home_win = np.tril(matriz, -1).sum()\n",
    "    p_draw = np.trace(matriz)\n",
    "    p_away_win = np.triu(matriz, 1).sum()\n",
    "\n",
    "    # Resultado más probable según el modelo\n",
    "    pred_result = np.argmax([p_home_win, p_draw, p_away_win])\n",
    "    pred_label = ['H', 'D', 'A'][pred_result]\n",
    "\n",
    "    # Guardar predicción\n",
    "    predicciones.append({\n",
    "        'HomeTeam': equipo_local,\n",
    "        'AwayTeam': equipo_visitante,\n",
    "        'FTR_real': row['FTR'],\n",
    "        'P_H': p_home_win,\n",
    "        'P_D': p_draw,\n",
    "        'P_A': p_away_win,\n",
    "        'Pred': pred_label\n",
    "    })\n",
    "\n",
    "# Convertir a DataFrame\n",
    "df_preds = pd.DataFrame(predicciones)\n",
    "\n",
    "# Evaluar precisión de clasificación\n",
    "accuracy = (df_preds['Pred'] == df_preds['FTR_real']).mean()\n",
    "print(f\"Precisión del modelo (aciertos exactos en 2023-24): {accuracy:.3f}\")"
   ]
  },
  {
   "cell_type": "markdown",
   "id": "14544991",
   "metadata": {},
   "source": [
    "## Evaluación del modelo: Matriz de confusión\n",
    "\n",
    "Para analizar el rendimiento del modelo de Poisson doble al predecir el resultado del partido (H, D, A), se utiliza una matriz de confusión.\n",
    "\n",
    "Esta matriz compara:\n",
    "\n",
    "- Las predicciones generadas por el modelo (columna \"Pred\").\n",
    "- Los resultados reales observados en los datos (columna \"FTR_real\").\n",
    "\n",
    "Permite identificar:\n",
    "- Cuántas veces el modelo acierta exactamente.\n",
    "- Dónde tiende a equivocarse (por ejemplo, si sobreestima victorias locales o subestima empates)."
   ]
  },
  {
   "cell_type": "code",
   "execution_count": 12,
   "id": "1b35db11",
   "metadata": {},
   "outputs": [
    {
     "data": {
      "image/png": "[encoded data removed]",
      "text/plain": [
       "<Figure size 600x500 with 2 Axes>"
      ]
     },
     "metadata": {},
     "output_type": "display_data"
    }
   ],
   "source": [
    "import seaborn as sns\n",
    "import matplotlib.pyplot as plt\n",
    "from sklearn.metrics import confusion_matrix, ConfusionMatrixDisplay\n",
    "\n",
    "# Calcular matriz de confusión\n",
    "etiquetas = ['H', 'D', 'A']\n",
    "cm = confusion_matrix(df_preds['FTR_real'], df_preds['Pred'], labels=etiquetas)\n",
    "\n",
    "# Mostrar como gráfico\n",
    "fig, ax = plt.subplots(figsize=(6, 5))\n",
    "sns.heatmap(cm, annot=True, fmt='d', cmap='Blues', xticklabels=etiquetas, yticklabels=etiquetas)\n",
    "plt.xlabel(\"Predicción del modelo\")\n",
    "plt.ylabel(\"Resultado real\")\n",
    "plt.title(\"Matriz de confusión - Resultados 2023-24\")\n",
    "plt.show()\n"
   ]
  },
  {
   "cell_type": "code",
   "execution_count": 13,
   "id": "65cf0c76",
   "metadata": {},
   "outputs": [
    {
     "name": "stdout",
     "output_type": "stream",
     "text": [
      "Distribución de resultados reales (2023-24):\n",
      "FTR_real\n",
      "H    150\n",
      "D     97\n",
      "A     95\n",
      "Name: count, dtype: int64\n",
      "\n",
      "Porcentaje de cada clase:\n",
      "FTR_real\n",
      "H    43.86\n",
      "D    28.36\n",
      "A    27.78\n",
      "Name: proportion, dtype: float64\n"
     ]
    }
   ],
   "source": [
    "# Distribución de clases en los resultados reales\n",
    "conteo_clases = df_preds['FTR_real'].value_counts()\n",
    "porcentaje_clases = df_preds['FTR_real'].value_counts(normalize=True) * 100\n",
    "\n",
    "# Mostrar resultados\n",
    "print(\"Distribución de resultados reales (2023-24):\")\n",
    "print(conteo_clases)\n",
    "print(\"\\nPorcentaje de cada clase:\")\n",
    "print(porcentaje_clases.round(2))\n"
   ]
  },
  {
   "cell_type": "markdown",
   "id": "a2f3548b",
   "metadata": {},
   "source": [
    "## Evaluación del modelo: F1-score por clase\n",
    "\n",
    "Para evaluar el rendimiento del modelo de Poisson doble en la clasificación de resultados (victoria local, empate, victoria visitante), se utiliza el F1-score, que combina precisión y recall en una sola métrica. Esto permite medir de forma más equilibrada la calidad del modelo, especialmente en clases desbalanceadas como el empate.\n"
   ]
  },
  {
   "cell_type": "code",
   "execution_count": 14,
   "id": "626387dc",
   "metadata": {},
   "outputs": [
    {
     "name": "stdout",
     "output_type": "stream",
     "text": [
      "Reporte de clasificación (F1-score, precisión, recall):\n",
      "              precision    recall  f1-score   support\n",
      "\n",
      "           H      0.558     0.867     0.679       150\n",
      "           D      0.000     0.000     0.000        97\n",
      "           A      0.486     0.547     0.515        95\n",
      "\n",
      "    accuracy                          0.532       342\n",
      "   macro avg      0.348     0.471     0.398       342\n",
      "weighted avg      0.380     0.532     0.441       342\n",
      "\n",
      "F1-score macro (media entre clases): 0.398\n"
     ]
    }
   ],
   "source": [
    "from sklearn.metrics import classification_report, f1_score\n",
    "\n",
    "# Reporte completo por clase\n",
    "etiquetas = ['H', 'D', 'A']\n",
    "reporte = classification_report(df_preds['FTR_real'], df_preds['Pred'], labels=etiquetas, digits=3)\n",
    "print(\"Reporte de clasificación (F1-score, precisión, recall):\")\n",
    "print(reporte)\n",
    "\n",
    "# F1-score macro (media no ponderada entre clases)\n",
    "f1_macro = f1_score(df_preds['FTR_real'], df_preds['Pred'], labels=etiquetas, average='macro')\n",
    "print(f\"F1-score macro (media entre clases): {f1_macro:.3f}\")\n"
   ]
  },
  {
   "cell_type": "markdown",
   "id": "227db875",
   "metadata": {},
   "source": [
    "### Conclusión de la evaluación (F1-score)\n",
    "\n",
    "- El modelo acierta bien en **victorias locales (H)**: F1 = 0.679, recall = 0.867.\n",
    "- El rendimiento en **victorias visitantes (A)** es moderado: F1 = 0.515.\n",
    "- El modelo **no logra predecir empates (D)**: F1 = 0.000, recall = 0.000.\n",
    "- El **F1 macro** (media no ponderada entre clases) es **0.398**, lo que indica un rendimiento desigual según el tipo de resultado.\n",
    "- A pesar de una precisión total del 53.2 %, el modelo **está sesgado hacia la clase mayoritaria (H)** y **necesita mejoras para captar empates**.\n",
    "\n",
    "Esto sugiere que, aunque el modelo Poisson doble predice bien goles esperados, no traduce esas predicciones con precisión a resultados categóricos equilibrados. Podría mejorarse incorporando un ajuste específico para empates (como en el modelo de Dixon & Coles) o aplicando calibración posterior sobre las probabilidades."
   ]
  },
  {
   "cell_type": "code",
   "execution_count": 30,
   "id": "54e61986",
   "metadata": {},
   "outputs": [
    {
     "name": "stdout",
     "output_type": "stream",
     "text": [
      "Apuestas acertadas: 182 de 342\n",
      "Total gastado: 412.00 €\n",
      "Total ganado: 768.30 €\n",
      "Beneficio neto: 356.30 €\n",
      "Rentabilidad: 86.48 %\n"
     ]
    }
   ],
   "source": [
    "# Copiar predicciones\n",
    "# Copiar predicciones\n",
    "df_apuestas = df_preds.copy()\n",
    "\n",
    "# Unir cuotas desde df_test usando HomeTeam y AwayTeam\n",
    "df_apuestas = df_apuestas.merge(\n",
    "    df_test[['HomeTeam', 'AwayTeam', 'AvgH', 'AvgD', 'AvgA']],\n",
    "    on=['HomeTeam', 'AwayTeam'],\n",
    "    how='left'\n",
    ")\n",
    "\n",
    "# Definir la cuota usada según la predicción del modelo\n",
    "df_apuestas['cuota_usada'] = df_apuestas.apply(\n",
    "    lambda row: row['AvgH'] if row['Pred'] == 'H' else (\n",
    "        row['AvgD'] if row['Pred'] == 'D' else row['AvgA']\n",
    "    ),\n",
    "    axis=1\n",
    ")\n",
    "\n",
    "# Acierto de la apuesta\n",
    "df_apuestas['acierto'] = (df_apuestas['Pred'] == df_apuestas['FTR_real']).astype(int)\n",
    "\n",
    "# Probabilidad del resultado predicho\n",
    "df_apuestas['p_pred'] = df_apuestas.apply(\n",
    "    lambda row: row['P_H'] if row['Pred'] == 'H' else (\n",
    "        row['P_D'] if row['Pred'] == 'D' else row['P_A']\n",
    "    ), axis=1\n",
    ")\n",
    "\n",
    "# Stake: 2 € si p_pred ≥ 0.6, si no 1 €\n",
    "df_apuestas['stake'] = df_apuestas['p_pred'].apply(lambda p: 2 if p >= 0.6 else 1)\n",
    "\n",
    "# Ganancia por apuesta\n",
    "df_apuestas['ganancia'] = df_apuestas.apply(\n",
    "    lambda row: row['cuota_usada'] * row['stake'] if row['acierto'] == 1 else 0,\n",
    "    axis=1\n",
    ")\n",
    "\n",
    "# Resultados con impresión estilo unificado\n",
    "acertadas = df_apuestas['acierto'].sum()\n",
    "total_partidos = len(df_apuestas)\n",
    "total_apostado = df_apuestas['stake'].sum()\n",
    "total_ganado = df_apuestas['ganancia'].sum()\n",
    "beneficio_neto = total_ganado - total_apostado\n",
    "rentabilidad = (beneficio_neto / total_apostado) * 100\n",
    "\n",
    "print(f\"Apuestas acertadas: {acertadas} de {total_partidos}\")\n",
    "print(f\"Total gastado: {total_apostado:.2f} €\")\n",
    "print(f\"Total ganado: {total_ganado:.2f} €\")\n",
    "print(f\"Beneficio neto: {beneficio_neto:.2f} €\")\n",
    "print(f\"Rentabilidad: {rentabilidad:.2f} %\")\n"
   ]
  },
  {
   "cell_type": "code",
   "execution_count": null,
   "id": "5924a74e",
   "metadata": {},
   "outputs": [
    {
     "name": "stdout",
     "output_type": "stream",
     "text": [
      "Apuestas acertadas: 182 de 342\n",
      "Total gastado: 342.00 €\n",
      "Total ganado: 573.69 €\n",
      "Beneficio neto: 231.69 €\n",
      "Rentabilidad: 67.75 %\n"
     ]
    }
   ],
   "source": [
    "# Simulación de apuestas para modelo Poisson simple\n",
    "\n",
    "import pandas as pd\n",
    "\n",
    "\n",
    "# Copiar predicciones\n",
    "df_apuestas = df_preds.copy()\n",
    "\n",
    "# Unir cuotas desde df_test usando HomeTeam y AwayTeam\n",
    "df_apuestas = df_apuestas.merge(\n",
    "    df_test[['HomeTeam', 'AwayTeam', 'AvgH', 'AvgD', 'AvgA']],\n",
    "    on=['HomeTeam', 'AwayTeam'],\n",
    "    how='left'\n",
    ")\n",
    "\n",
    "# Definir la cuota usada según la predicción del modelo\n",
    "df_apuestas['cuota_usada'] = df_apuestas.apply(\n",
    "    lambda row: row['AvgH'] if row['Pred'] == 'H' else (\n",
    "        row['AvgD'] if row['Pred'] == 'D' else row['AvgA']\n",
    "    ),\n",
    "    axis=1\n",
    ")\n",
    "\n",
    "# Calcular si la apuesta fue acertada\n",
    "df_apuestas['acierto'] = (df_apuestas['Pred'] == df_apuestas['FTR_real']).astype(int)\n",
    "\n",
    "# Supongamos 1€ apostado por partido\n",
    "df_apuestas['apostado'] = 1.0\n",
    "df_apuestas['ganancia'] = df_apuestas['acierto'] * df_apuestas['cuota_usada']\n",
    "\n",
    "# Resultados agregados\n",
    "acertadas = df_apuestas['acierto'].sum()\n",
    "total_partidos = len(df_apuestas)\n",
    "total_apostado = df_apuestas['apostado'].sum()\n",
    "total_ganado = df_apuestas['ganancia'].sum()\n",
    "beneficio_neto = total_ganado - total_apostado\n",
    "rentabilidad = (beneficio_neto / total_apostado) * 100\n",
    "\n",
    "# Mostrar resultados\n",
    "print(f\"Apuestas acertadas: {acertadas} de {total_partidos}\")\n",
    "print(f\"Total gastado: {total_apostado:.2f} €\")\n",
    "print(f\"Total ganado: {total_ganado:.2f} €\")\n",
    "print(f\"Beneficio neto: {beneficio_neto:.2f} €\")\n",
    "print(f\"Rentabilidad: {rentabilidad:.2f} %\")\n"
   ]
  },
  {
   "cell_type": "code",
   "execution_count": null,
   "id": "857a5762",
   "metadata": {},
   "outputs": [],
   "source": []
  }
 ],
 "metadata": {
  "kernelspec": {
   "display_name": "Python 3",
   "language": "python",
   "name": "python3"
  },
  "language_info": {
   "codemirror_mode": {
    "name": "ipython",
    "version": 3
   },
   "file_extension": ".py",
   "mimetype": "text/x-python",
   "name": "python",
   "nbconvert_exporter": "python",
   "pygments_lexer": "ipython3",
   "version": "3.10.7"
  }
 },
 "nbformat": 4,
 "nbformat_minor": 5
}
